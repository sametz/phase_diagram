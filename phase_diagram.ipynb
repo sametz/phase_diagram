{
 "cells": [
  {
   "cell_type": "markdown",
   "metadata": {},
   "source": [
    "Modifying the isopropanol/isobutanol distillation example from *The Organic Chem Lab Survival Manual* to see if phase diagrams can be plotted programmatically."
   ]
  },
  {
   "cell_type": "raw",
   "metadata": {},
   "source": [
    "Color blind palette via \n",
    "\n",
    "https://jbloomlab.github.io/dms_struct/dms_struct.colorschemes.html\n",
    "\n",
    "#000000  black\n",
    "#E69F00  gold\n",
    "#56B4E9  light blue\n",
    "#009E73  green\n",
    "#F0E442  yellow\n",
    "#0072B2  dark blue\n",
    "#D55E00  orange\n",
    "#CC79A7  violet"
   ]
  },
  {
   "cell_type": "code",
   "execution_count": null,
   "metadata": {},
   "outputs": [],
   "source": [
    "%matplotlib widget"
   ]
  },
  {
   "cell_type": "code",
   "execution_count": null,
   "metadata": {},
   "outputs": [],
   "source": [
    "import math\n",
    "import numpy as np"
   ]
  },
  {
   "cell_type": "markdown",
   "metadata": {},
   "source": [
    "Ideal behavior is calculated from the boiling point of the components of the binary mixture, and their heats of vaporization. "
   ]
  },
  {
   "cell_type": "code",
   "execution_count": null,
   "metadata": {},
   "outputs": [],
   "source": [
    "bp_isopropanol = 355.4  # K (82.6 °C)\n",
    "bp_isobutanol = 381.2  # K (107.9 °C)\n",
    "H_isopropanol = 9515.73  # cal/mol\n",
    "H_isobutanol = 10039.70  # cal/mol"
   ]
  },
  {
   "cell_type": "markdown",
   "metadata": {},
   "source": [
    "Clausius-Clapeyron equation:\n",
    "\n",
    "$$p=p°e^{\\frac{-\\Delta H}{R}(\\frac{1}{T} - \\frac{1}{T°})}$$"
   ]
  },
  {
   "cell_type": "code",
   "execution_count": null,
   "metadata": {},
   "outputs": [],
   "source": [
    "def p_from_t(h, t, p0, t0):\n",
    "    \"\"\"Calculate the vapor pressure of a liquid at a given temperature, using the Clausius-Clapeyron equation.\n",
    "    \n",
    "    The most convenient references p0 and t0 are from the boiling point of the compound,\n",
    "    e.g. 760 torr and 355.4 K for isopropanol.\n",
    "    \n",
    "    Parameters\n",
    "    ----------\n",
    "    h : float\n",
    "        The heat of vaporization in cal/mol\n",
    "    t : float\n",
    "        The temperature in K\n",
    "    p0 : float\n",
    "        Reference vapor pressure\n",
    "    t0 : float\n",
    "        Reference temperature in K\n",
    "        \n",
    "    Returns\n",
    "    -------\n",
    "    float\n",
    "        The vapor pressure at temperature t.\n",
    "    \"\"\"\n",
    "    r = 1.987204  # cal/mol·K\n",
    "    e = - (h/r) * ((1/t) - (1/t0))\n",
    "    return p0 * math.exp(e)"
   ]
  },
  {
   "cell_type": "code",
   "execution_count": null,
   "metadata": {},
   "outputs": [],
   "source": [
    "# p = p_from_t(H_isobutanol, 364.1, 760, bp_isobutanol)\n",
    "# p"
   ]
  },
  {
   "cell_type": "code",
   "execution_count": null,
   "metadata": {},
   "outputs": [],
   "source": [
    "def isobutanol_pressure(t):\n",
    "    \"\"\"Calculate the vapor pressure (torr) of isobutanol, given a temperature in K.\"\"\"\n",
    "    return p_from_t(H_isobutanol, t, 760, bp_isobutanol)\n",
    "\n",
    "def isopropanol_pressure(t):\n",
    "    \"\"\"Calculate the vapor pressure (torr) of isopropanol, given a temperature in K.\"\"\"\n",
    "    return p_from_t(H_isopropanol, t, 760, bp_isopropanol)"
   ]
  },
  {
   "cell_type": "markdown",
   "metadata": {},
   "source": [
    "From *OCLSM* p. 327:\n",
    "\n",
    "$$X_A = \\frac{P_{atm}-P°_B}{P°_A-P°_B}$$"
   ]
  },
  {
   "cell_type": "code",
   "execution_count": null,
   "metadata": {},
   "outputs": [],
   "source": [
    "def chi_isopropanol_liquid(t):\n",
    "    \"\"\"Calculate the mol fraction of isopropanol in an isopropanol/isubutanol mixture, \n",
    "    given its boiling point in K.\n",
    "    \"\"\"\n",
    "    p_isopropanol = isopropanol_pressure(t)\n",
    "    p_isobutanol = isobutanol_pressure(t)\n",
    "    return (760 - p_isobutanol) / (p_isopropanol - p_isobutanol)\n",
    "\n",
    "def chi_isobutanol_liquid(t):\n",
    "    return 1.0 - chi_isopropanol_liquid(t)"
   ]
  },
  {
   "cell_type": "code",
   "execution_count": null,
   "metadata": {},
   "outputs": [],
   "source": [
    "chi_isopropanol_liquid(92 + 273.15)"
   ]
  },
  {
   "cell_type": "code",
   "execution_count": null,
   "metadata": {},
   "outputs": [],
   "source": [
    "import matplotlib\n",
    "import matplotlib.pyplot as plt"
   ]
  },
  {
   "cell_type": "markdown",
   "metadata": {},
   "source": [
    "From *OCLSM p. 329:\n",
    "\n",
    "$$X^{vapor}_A = X^{liquid}_AP^°_A/760$$"
   ]
  },
  {
   "cell_type": "code",
   "execution_count": null,
   "metadata": {},
   "outputs": [],
   "source": [
    "def chi_isobutanol_vapor(t):\n",
    "    \"\"\"Calculate the mol fraction isobutanol in the vapor phase at a given temperature,\n",
    "    given the temperature t in K.\n",
    "    \"\"\"\n",
    "    chi_liquid = chi_isobutanol_liquid(t)\n",
    "    p = isobutanol_pressure(t)\n",
    "    return chi_liquid * p / 760"
   ]
  },
  {
   "cell_type": "code",
   "execution_count": null,
   "metadata": {},
   "outputs": [],
   "source": [
    "# create y coordinates\n",
    "t_k = np.arange(bp_isopropanol, bp_isobutanol, 0.1)  # K\n",
    "t_c = t_k - 273.15  # °C\n",
    "\n",
    "# create vectorized versions of chi functions,\n",
    "# then apply them to t_k to generate x coordinates \n",
    "f_liquid = np.vectorize(chi_isobutanol_liquid)\n",
    "f_vapor = np.vectorize(chi_isobutanol_vapor)\n",
    "chi_liquid = f_liquid(t_k)\n",
    "chi_vapor = f_vapor(t_k)"
   ]
  },
  {
   "cell_type": "markdown",
   "metadata": {},
   "source": [
    "Before creating the animated gif, the basic plot is created and saved in PNG format. This can be used for student assignments."
   ]
  },
  {
   "cell_type": "code",
   "execution_count": null,
   "metadata": {},
   "outputs": [],
   "source": [
    "fig, ax = plt.subplots()\n",
    "plt.xlim(0.0, 1.0)\n",
    "plt.ylim(80.0, 110.0)\n",
    "liquid_curve = ax.plot(chi_liquid, t_c, color='#0072b2')[0]\n",
    "vapor_curve = ax.plot(chi_vapor, t_c, color='#d55e00')[0]\n",
    "\n",
    "ax.set(xlabel='mol fraction isobutanol', ylabel='T (°C)',\n",
    "       title='Phase Diagram for Isopropanol/Isobutanol')\n",
    "# ax.grid()\n",
    "\n",
    "# Show the major grid lines with dark grey lines\n",
    "ax.grid(b=True, which='major', color='#666666', linestyle='-')\n",
    "\n",
    "# Show the minor grid lines with very faint and almost transparent grey lines\n",
    "ax.minorticks_on()\n",
    "ax.xaxis.grid(b=True, which='minor', color='#999999', linestyle='-', alpha=0.2, markevery=0.02)\n",
    "ax.yaxis.grid(b=True, which='minor', color='#999999', linestyle='-', alpha=0.2)\n",
    "\n",
    "import matplotlib.ticker as ticker\n",
    "x_major_spacing = 0.1\n",
    "x_minor_spacing = 0.02\n",
    "ax.xaxis.set_minor_locator(ticker.MultipleLocator(x_minor_spacing))\n",
    "ax.xaxis.set_major_locator(ticker.MultipleLocator(x_major_spacing))\n",
    "\n",
    "# uncomment to view plot in notebook\n",
    "# note: if Cell -> Run All was used to run the notebook, \n",
    "# this will show as an animation instead of a static plot\n",
    "# plt.show()"
   ]
  },
  {
   "cell_type": "code",
   "execution_count": null,
   "metadata": {},
   "outputs": [],
   "source": [
    "# When you want to save the plot, uncomment the code below\n",
    "\n",
    "# fig.set_size_inches(9, 5.5)\n",
    "# plt.savefig('iPrOH_iBuOH_phase_diagram.png', dpi=300, orientation='landscape', transparent=False)"
   ]
  },
  {
   "cell_type": "code",
   "execution_count": null,
   "metadata": {},
   "outputs": [],
   "source": [
    "print(liquid_curve)"
   ]
  },
  {
   "cell_type": "code",
   "execution_count": null,
   "metadata": {},
   "outputs": [],
   "source": [
    "from scipy.optimize import fsolve"
   ]
  },
  {
   "cell_type": "code",
   "execution_count": null,
   "metadata": {},
   "outputs": [],
   "source": [
    "def test_func(t):\n",
    "    return chi_isobutanol_liquid(t) - 0.8"
   ]
  },
  {
   "cell_type": "code",
   "execution_count": null,
   "metadata": {},
   "outputs": [],
   "source": [
    "# fsolve(test_func, 102.0) - 273.15"
   ]
  },
  {
   "cell_type": "code",
   "execution_count": null,
   "metadata": {},
   "outputs": [],
   "source": [
    "def solve_t(fn, chi):\n",
    "    \"\"\"Solve for t where fn(t) = chi.\n",
    "    \n",
    "    Parameters\n",
    "    ----------\n",
    "    fn : function taking one numerical argument\n",
    "    \n",
    "    Returns\n",
    "    -------\n",
    "    [t] : [float] \n",
    "        Temperature in K. Should only have one answer. \n",
    "        TODO: consider returning t directly.\n",
    "    \"\"\"\n",
    "    test_function = lambda t: fn(t) - chi\n",
    "    # using 90 °C or 363.15 K as first guess for fsolve\n",
    "    return fsolve(test_function, 363.15)"
   ]
  },
  {
   "cell_type": "code",
   "execution_count": null,
   "metadata": {},
   "outputs": [],
   "source": [
    "# bp_80 = solve_t(chi_isobutanol_liquid, 0.8)\n",
    "# bp_80 - 273.15"
   ]
  },
  {
   "cell_type": "code",
   "execution_count": null,
   "metadata": {},
   "outputs": [],
   "source": [
    "# vapor_80 = chi_isobutanol_vapor(bp_80[0])\n",
    "# vapor_80"
   ]
  },
  {
   "cell_type": "code",
   "execution_count": null,
   "metadata": {},
   "outputs": [],
   "source": [
    "def theoretical_plate(chi_initial):\n",
    "    \"\"\"Return the bp of a mixture in °C and its vapor composition,\n",
    "    given the composition of the liquid.\n",
    "    \n",
    "    Parameters\n",
    "    ----------\n",
    "    chi_inital : float\n",
    "        the mol fraction of isobutanol in the mixture\n",
    "    \n",
    "    Returns\n",
    "    -------\n",
    "    float, float\n",
    "        tuple of (T in °C, mol fraction isobutanol in vapor)\n",
    "    \"\"\"\n",
    "    t = solve_t(chi_isobutanol_liquid, chi_initial)[0]\n",
    "    chi_vapor = chi_isobutanol_vapor(t)\n",
    "    return t - 273.15, chi_vapor "
   ]
  },
  {
   "cell_type": "code",
   "execution_count": null,
   "metadata": {},
   "outputs": [],
   "source": [
    "# Starting from an initial composition of 0.8 mol fraction isobutanol,\n",
    "# calculate the t and chi data for the theoretical plates\n",
    "\n",
    "chi0 = 0.8\n",
    "t0, chi1 = theoretical_plate(chi0)\n",
    "t1, chi2 = theoretical_plate(chi1)\n",
    "t2, chi3 = theoretical_plate(chi2)\n",
    "t3, chi4 = theoretical_plate(chi3)\n",
    "t4, chi5 = theoretical_plate(chi4)\n",
    "t5, chi6 = theoretical_plate(chi5)\n",
    "t6, chi7 = theoretical_plate(chi6)"
   ]
  },
  {
   "cell_type": "code",
   "execution_count": null,
   "metadata": {},
   "outputs": [],
   "source": [
    "# t, v = theoretical_plate(0.8)\n",
    "# t_c = t - 273.15\n",
    "# t_c, v"
   ]
  },
  {
   "cell_type": "code",
   "execution_count": null,
   "metadata": {},
   "outputs": [],
   "source": [
    "# t2, v2 = theoretical_plate(v)\n",
    "# t2_c = t2 - 273.15\n",
    "# t2_c, v2"
   ]
  },
  {
   "cell_type": "code",
   "execution_count": null,
   "metadata": {},
   "outputs": [],
   "source": [
    "# line segments for theoretical plates\n",
    "\n",
    "vertical1 = ax.plot([chi0, chi0], [0, t0], color='#999999', linestyle='--')[0]\n",
    "horizontal1 = ax.plot([chi0, chi1], [t0, t0], color='#999999', linestyle='--')[0]\n",
    "vertical2 = ax.plot([chi1, chi1], [t0, t1], color='#999999', linestyle='--')[0]\n",
    "horizontal2 = ax.plot([chi1, chi2], [t1, t1], color='#999999', linestyle='--')[0]\n",
    "vertical3 = ax.plot([chi2, chi2], [t1, t2], color='#999999', linestyle='--')[0]\n",
    "horizontal3 = ax.plot([chi2, chi3], [t2, t2], color='#999999', linestyle='--')[0]\n",
    "vertical4 = ax.plot([chi3, chi3], [t2, t3], color='#999999', linestyle='--')[0]\n",
    "horizontal4 = ax.plot([chi3, chi4], [t3, t3], color='#999999', linestyle='--')[0]\n",
    "vertical5 = ax.plot([chi4, chi4], [t3, t4], color='#999999', linestyle='--')[0]\n",
    "horizontal5 = ax.plot([chi4, chi5], [t4, t4], color='#999999', linestyle='--')[0]\n",
    "vertical6 = ax.plot([chi5, chi5], [t4, t5], color='#999999', linestyle='--')[0]\n",
    "horizontal6 = ax.plot([chi5, chi6], [t5, t5], color='#999999', linestyle='--')[0]\n",
    "vertical7 = ax.plot([chi6, chi6], [t5, t6], color='#999999', linestyle='--')[0]\n"
   ]
  },
  {
   "cell_type": "code",
   "execution_count": null,
   "metadata": {},
   "outputs": [],
   "source": [
    "# tp1 = ([0.8, 0.8, v, v], [0, t_c, t_c, 0])\n",
    "# ax.plot(*tp1, color='black')\n",
    "# # plt.show()"
   ]
  },
  {
   "cell_type": "code",
   "execution_count": null,
   "metadata": {},
   "outputs": [],
   "source": [
    "# tp2 = ([v, v, v2, v2], [0, t2_c, t2_c, 0])\n",
    "# ax.plot(*tp2, color='black')"
   ]
  },
  {
   "cell_type": "code",
   "execution_count": null,
   "metadata": {},
   "outputs": [],
   "source": [
    "# points for bp of pure components\n",
    "isopropanol_bp_point = plt.scatter(0, bp_isopropanol-273.15, \n",
    "                                   clip_on=False, color='#0072b2')\n",
    "isobutanol_bp_point = plt.scatter(1, bp_isobutanol-273.15, \n",
    "                                  clip_on=False, color='#0072b2')"
   ]
  },
  {
   "cell_type": "code",
   "execution_count": null,
   "metadata": {},
   "outputs": [],
   "source": [
    "# points along the liquid and vapor curves that intersect with\n",
    "# the line segments\n",
    "l0 = plt.scatter([chi0], [t0], color='#0072b2')\n",
    "v0 = plt.scatter([chi1], [t0], color='#d55e00')\n",
    "l1 = plt.scatter([chi1], [t1], color='#0072b2')\n",
    "v1 = plt.scatter([chi2], [t1], color='#d55e00')\n",
    "l2 = plt.scatter([chi2], [t2], color='#0072b2')\n",
    "v2 = plt.scatter([chi3], [t2], color='#d55e00')\n",
    "l3 = plt.scatter([chi3], [t3], color='#0072b2')\n",
    "\n",
    "\n"
   ]
  },
  {
   "cell_type": "markdown",
   "metadata": {},
   "source": [
    "What follows are the annotations that will be added during the animation:"
   ]
  },
  {
   "cell_type": "code",
   "execution_count": null,
   "metadata": {},
   "outputs": [],
   "source": [
    "a_isopropanol_bp = plt.annotate(\n",
    "    'boiling point of isopropanol\\n(mol fraction isobutanol = 0)',\n",
    "    xy=(0, bp_isopropanol-273.15),\n",
    "    xycoords='data',\n",
    "    fontsize=12,\n",
    "    xytext=(+30, -0),\n",
    "    textcoords='offset points',\n",
    "    arrowprops={\n",
    "        'arrowstyle': '->'\n",
    "    })"
   ]
  },
  {
   "cell_type": "code",
   "execution_count": null,
   "metadata": {},
   "outputs": [],
   "source": [
    "a_isobutanol_bp = plt.annotate(\n",
    "    'boiling point of isobutanol\\n(mol fraction isobutanol = 1)',\n",
    "    xy=(1, bp_isobutanol-273.15),\n",
    "    xycoords='data',\n",
    "    fontsize=12,\n",
    "    xytext=(-200, -10),\n",
    "    textcoords='offset points',\n",
    "    arrowprops={\n",
    "        'arrowstyle': '->'\n",
    "    })"
   ]
  },
  {
   "cell_type": "code",
   "execution_count": null,
   "metadata": {},
   "outputs": [],
   "source": [
    "a_liquid = plt.annotate(\n",
    "    'boiling point of\\niPrOH/iBuOH mixture',\n",
    "    xy=(0.5, solve_t(chi_isobutanol_liquid, 0.5)[0]-273.15),\n",
    "    xycoords='data',\n",
    "    fontsize=12,\n",
    "    xytext=(+30, -30),\n",
    "    textcoords='offset points',\n",
    "    arrowprops={\n",
    "        'arrowstyle': '->'\n",
    "    })"
   ]
  },
  {
   "cell_type": "code",
   "execution_count": null,
   "metadata": {},
   "outputs": [],
   "source": [
    "a_vapor = plt.annotate(\n",
    "    'composition of vapor\\n at boiling point T',\n",
    "    xy=(chi2, t1),\n",
    "    xycoords='data',\n",
    "    fontsize=12,\n",
    "    xytext=(-130, +20),\n",
    "    textcoords='offset points',\n",
    "    arrowprops={\n",
    "        'arrowstyle': '->'\n",
    "    })"
   ]
  },
  {
   "cell_type": "code",
   "execution_count": null,
   "metadata": {},
   "outputs": [],
   "source": [
    "a1 = plt.annotate(\n",
    "    f'bp of\\n80 mol%\\nisobutanol\\n= {t0:.1f} °C',\n",
    "    xy=(0.8, t0),\n",
    "    xycoords='data',\n",
    "    fontsize=12,\n",
    "    xytext=(+30, -30),\n",
    "    textcoords='offset points',\n",
    "    arrowprops={\n",
    "        'arrowstyle': '->'\n",
    "    })"
   ]
  },
  {
   "cell_type": "code",
   "execution_count": null,
   "metadata": {},
   "outputs": [],
   "source": [
    "a2 = plt.annotate(\n",
    "    f'mol% of vapor\\nat {t0:.1f} °C\\n= {chi1*100:.0f}%',\n",
    "    xy=(chi1, t0),\n",
    "    xycoords='data',\n",
    "    fontsize=12,\n",
    "    xytext=(-110, -10),\n",
    "    textcoords='offset points',\n",
    "    arrowprops={\n",
    "        'arrowstyle': '->'\n",
    "    })"
   ]
  },
  {
   "cell_type": "code",
   "execution_count": null,
   "metadata": {},
   "outputs": [],
   "source": [
    "a3 = plt.annotate(\n",
    "    f'cooling these vapors\\ngives a condensate\\nthat is {chi1*100:.0f}% iBuOH',\n",
    "    xy=(chi1, t1),\n",
    "    xycoords='data',\n",
    "    fontsize=12,\n",
    "    xytext=(+30, -30),\n",
    "    textcoords='offset points',\n",
    "    arrowprops={\n",
    "        'arrowstyle': '->'\n",
    "    })"
   ]
  },
  {
   "cell_type": "code",
   "execution_count": null,
   "metadata": {},
   "outputs": [],
   "source": [
    "a4 = plt.annotate(\n",
    "    f'i.e. the amount of\\nthe more volatile\\niPrOH has increased\\nfrom 20% to {(1-chi1)*100:.0f}%',\n",
    "    xy=(chi1, t1),\n",
    "    xycoords='data',\n",
    "    fontsize=12,\n",
    "    xytext=(+30, -30),\n",
    "    textcoords='offset points',\n",
    "    arrowprops={\n",
    "        'arrowstyle': '->'\n",
    "    })"
   ]
  },
  {
   "cell_type": "code",
   "execution_count": null,
   "metadata": {},
   "outputs": [],
   "source": [
    "a5 = plt.annotate(\n",
    "    'a single\\nvaporize/condense\\ncycle is called a\\n' + r'$\\bf{theoretical\\ plate}$',\n",
    "    xy=(chi1, t1),\n",
    "    xycoords='data',\n",
    "    fontsize=12,\n",
    "    xytext=(+30, -30),\n",
    "    textcoords='offset points',\n",
    "    arrowprops={\n",
    "        'arrowstyle': '->'\n",
    "    })"
   ]
  },
  {
   "cell_type": "code",
   "execution_count": null,
   "metadata": {},
   "outputs": [],
   "source": [
    "a6 = plt.annotate(\n",
    "    '''So, if a simple distillation\\n'''\n",
    "    '''apparatus has an\\n'''\n",
    "    '''efficiency of ~ 1\\n'''\n",
    "    '''theoretical plate,\\n'''\n",
    "    '''the distillate will only be\\n'''\n",
    "    '''slightly enriched in iPrOH.''',\n",
    "    xy=(chi1, t1),\n",
    "    xycoords='data',\n",
    "    fontsize=12,\n",
    "    xytext=(+30, -30),\n",
    "    textcoords='offset points',\n",
    "    arrowprops={\n",
    "        'arrowstyle': '->'\n",
    "    })"
   ]
  },
  {
   "cell_type": "code",
   "execution_count": null,
   "metadata": {},
   "outputs": [],
   "source": [
    "a7 = plt.annotate(\n",
    "    '''In fractional distillation,\\n'''\n",
    "    '''multiple evaporate/condense\\n'''\n",
    "    '''steps occur before the\\n'''\n",
    "    '''vapors reach the condenser.\\n''',\n",
    "    xy=(chi2, t1),\n",
    "    xycoords='data',\n",
    "    fontsize=12,\n",
    "    xytext=(-130, +15),\n",
    "    textcoords='offset points',\n",
    "    arrowprops={\n",
    "        'arrowstyle': '->'\n",
    "    })"
   ]
  },
  {
   "cell_type": "code",
   "execution_count": null,
   "metadata": {},
   "outputs": [],
   "source": [
    "a8 = plt.annotate(\n",
    "    '''An efficiency of 2\\n'''\n",
    "    '''theoretical plates gives a\\n'''\n",
    "    '''distillate that is\\n'''\n",
    "    f'''{(1-chi2)*100:.0f}% iPrOH''',\n",
    "    xy=(chi2, t2),\n",
    "    xycoords='data',\n",
    "    fontsize=12,\n",
    "    xytext=(+30, -50),\n",
    "    textcoords='offset points',\n",
    "    arrowprops={\n",
    "        'arrowstyle': '->'\n",
    "    })"
   ]
  },
  {
   "cell_type": "code",
   "execution_count": null,
   "metadata": {},
   "outputs": [],
   "source": [
    "a9 = plt.annotate(\n",
    "    '''An efficiency of 3\\n'''\n",
    "    '''theoretical plates gives a\\n'''\n",
    "    '''distillate that is\\n'''\n",
    "    f'''{(1-chi3)*100:.0f}% iPrOH''',\n",
    "    xy=(chi3, t3),\n",
    "    xycoords='data',\n",
    "    fontsize=12,\n",
    "    xytext=(+30, -50),\n",
    "    textcoords='offset points',\n",
    "    arrowprops={\n",
    "        'arrowstyle': '->'\n",
    "    })"
   ]
  },
  {
   "cell_type": "code",
   "execution_count": null,
   "metadata": {},
   "outputs": [],
   "source": [
    "a10 = plt.annotate(\n",
    "    '''The greater the number of theoretical plates,\\n'''\n",
    "    '''the more perfect the separation.''',\n",
    "    xy=(chi4, t5),\n",
    "    xycoords='data',\n",
    "    fontsize=12,\n",
    "    xytext=(+30, -5),\n",
    "    textcoords='offset points'\n",
    "    )"
   ]
  },
  {
   "cell_type": "code",
   "execution_count": null,
   "metadata": {},
   "outputs": [],
   "source": [
    "# a1.set_animated(False)\n",
    "# a1.set_visible(False)"
   ]
  },
  {
   "cell_type": "code",
   "execution_count": null,
   "metadata": {},
   "outputs": [],
   "source": [
    "# a1.set_visible(True)"
   ]
  },
  {
   "cell_type": "code",
   "execution_count": null,
   "metadata": {},
   "outputs": [],
   "source": [
    "# a1.remove()"
   ]
  },
  {
   "cell_type": "code",
   "execution_count": null,
   "metadata": {},
   "outputs": [],
   "source": [
    "from matplotlib.animation import ArtistAnimation"
   ]
  },
  {
   "cell_type": "markdown",
   "metadata": {},
   "source": [
    "The following define the frames for each step of the animation:"
   ]
  },
  {
   "cell_type": "code",
   "execution_count": null,
   "metadata": {},
   "outputs": [],
   "source": [
    "iproh_bp_frame = [isopropanol_bp_point] + [a_isopropanol_bp]\n",
    "ibuoh_bp_frame = iproh_bp_frame[:-1] + [isobutanol_bp_point] + [a_isobutanol_bp]\n",
    "frame_1 = ibuoh_bp_frame[:-1] + [liquid_curve] + [a_liquid]\n",
    "frame_2 = frame_1[:-1] + [vapor_curve] + [a_vapor]\n",
    "frame_3 = frame_2[:-1] + [vertical1, l0, a1]\n",
    "frame_4 = frame_3[:-1] + [horizontal1, v0, a2]\n",
    "frame_5 = frame_4[:-1] + [vertical2, l1, a3]\n",
    "frame_5_2 = frame_5[:-1] + [a4]\n",
    "frame_5_3 = frame_5_2[:-1] + [a5]\n",
    "frame_5_4 = frame_5_3[:-1] + [a6]\n",
    "frame_6 = frame_5_3[:-1] + [horizontal2, v1] + [a7]\n",
    "frame_7 = frame_6[:-1] + [vertical3, l2] + [a8]\n",
    "frame_8 = frame_7[:-1] + [horizontal3, v2]\n",
    "frame_9 = frame_8 + [vertical4, l3] + [a9]\n",
    "frame_10 = frame_9[:-1] + [horizontal4] + [a10]\n",
    "frame_11 = frame_10 + [vertical5]\n",
    "frame_12 = frame_11 + [horizontal5]\n",
    "frame_13 = frame_12 + [vertical6]\n",
    "frame_14 = frame_13 + [horizontal6]\n",
    "frame_15 = frame_14 + [vertical7]\n",
    "intro_frame = [liquid_curve, vapor_curve]\n",
    "# print (len(frame_1), len(frame_2), len(frame_3), len(frame_4))"
   ]
  },
  {
   "cell_type": "code",
   "execution_count": null,
   "metadata": {},
   "outputs": [],
   "source": [
    "# print(frame_3)"
   ]
  },
  {
   "cell_type": "markdown",
   "metadata": {},
   "source": [
    "The frames are put in order into the `artists` list:"
   ]
  },
  {
   "cell_type": "code",
   "execution_count": null,
   "metadata": {},
   "outputs": [],
   "source": [
    "artists = [\n",
    "           intro_frame, iproh_bp_frame, ibuoh_bp_frame, \n",
    "           frame_1, frame_2, frame_3, frame_4, \n",
    "           frame_5, frame_5_2, frame_5_3, frame_5_4,\n",
    "           frame_6, frame_7, frame_8, frame_9, frame_10,\n",
    "           frame_11, frame_12, frame_13, frame_14, frame_15]\n"
   ]
  },
  {
   "cell_type": "code",
   "execution_count": null,
   "metadata": {},
   "outputs": [],
   "source": [
    "# for artist in artists:\n",
    "#     print(f'Trying to hide artist {artist}')\n",
    "#     try:\n",
    "#         artist.set_visible(False)\n",
    "#     except Exception as e:\n",
    "#         print(\"Doesn't seem to be an artist!\")"
   ]
  },
  {
   "cell_type": "code",
   "execution_count": null,
   "metadata": {},
   "outputs": [],
   "source": [
    "# liquid_curve.set_visible(False)"
   ]
  },
  {
   "cell_type": "code",
   "execution_count": null,
   "metadata": {},
   "outputs": [],
   "source": [
    "# print(liquid_curve)"
   ]
  },
  {
   "cell_type": "code",
   "execution_count": null,
   "metadata": {},
   "outputs": [],
   "source": [
    "# Adjust interval (ms) to suit your taste. Here: 5 s per frame\n",
    "ani = ArtistAnimation(fig, artists, interval=5000)\n",
    "plt.show()"
   ]
  },
  {
   "cell_type": "code",
   "execution_count": null,
   "metadata": {},
   "outputs": [],
   "source": [
    "# for artist in artists:\n",
    "#     artist.set_visible(True)"
   ]
  },
  {
   "cell_type": "code",
   "execution_count": null,
   "metadata": {},
   "outputs": [],
   "source": [
    "from IPython.display import HTML"
   ]
  },
  {
   "cell_type": "code",
   "execution_count": null,
   "metadata": {},
   "outputs": [],
   "source": [
    "HTML(ani.to_jshtml())"
   ]
  },
  {
   "cell_type": "code",
   "execution_count": null,
   "metadata": {},
   "outputs": [],
   "source": [
    "print(ani)"
   ]
  },
  {
   "cell_type": "code",
   "execution_count": null,
   "metadata": {},
   "outputs": [],
   "source": [
    "# Uncomment the code below to save the animated gif\n",
    "\n",
    "# ani.save('distillation_test.gif', writer='imagemagick')\n",
    "# anim.save('../../files/animation.gif', writer='imagemagick', fps=60)"
   ]
  },
  {
   "cell_type": "code",
   "execution_count": null,
   "metadata": {},
   "outputs": [],
   "source": []
  }
 ],
 "metadata": {
  "kernelspec": {
   "display_name": "Python [conda env:datascience] *",
   "language": "python",
   "name": "conda-env-datascience-py"
  },
  "language_info": {
   "codemirror_mode": {
    "name": "ipython",
    "version": 3
   },
   "file_extension": ".py",
   "mimetype": "text/x-python",
   "name": "python",
   "nbconvert_exporter": "python",
   "pygments_lexer": "ipython3",
   "version": "3.7.7"
  }
 },
 "nbformat": 4,
 "nbformat_minor": 4
}
